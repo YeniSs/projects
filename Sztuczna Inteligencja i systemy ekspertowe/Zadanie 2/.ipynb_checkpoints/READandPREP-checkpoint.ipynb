{
 "cells": [
  {
   "cell_type": "markdown",
   "id": "informative-agency",
   "metadata": {},
   "source": [
    "## Reading and Preparation"
   ]
  },
  {
   "cell_type": "code",
   "execution_count": 8,
   "id": "ordinary-closing",
   "metadata": {},
   "outputs": [],
   "source": [
    "#    #Imports\n",
    "import numpy as np\n",
    "import pandas as pd\n",
    "import os\n",
    "#    #Paths\n",
    "DATA_PATH = \"C:/Users/User/Documents/SISE/pomiary\"\n",
    "DATA_PATH_F8 = DATA_PATH + \"/F8\"\n",
    "DATA_PATH_F10 = DATA_PATH + \"/F10\"\n",
    "DATA_FOLDERS = [DATA_PATH_F8, DATA_PATH_F10]\n",
    "DATA_FOLDER_NAMES = [\"/F8\", \"/F10\"]\n",
    "OUT_DATA_PATH = \"C:/Users/User/Documents/SISE/pomiary/prepared/\""
   ]
  },
  {
   "cell_type": "code",
   "execution_count": 9,
   "id": "937ab182",
   "metadata": {},
   "outputs": [],
   "source": [
    "#    #Functions\n",
    "def prepare_data_frame(path, columns_to_use):\n",
    "    df = pd.read_excel(path)\n",
    "    prepared_df = pd.DataFrame(df, columns=columns_to_use)\n",
    "    return prepared_df\n",
    "\n",
    "def prepare_static_data(columns_for_training, data_folders, static_data_frame):\n",
    "    for folder in DATA_FOLDERS:\n",
    "        for filename in os.listdir(folder):\n",
    "            if \"stat\" in filename:\n",
    "                path = os.path.join(folder, filename)\n",
    "                static_data = prepare_data_frame(path, columns_for_training)\n",
    "                static_data_frame = pd.concat([static_data_frame, static_data])\n",
    "            else:\n",
    "                continue\n",
    "    return static_data_frame\n",
    "\n",
    "def prepare_dynamic_data(columns_for_training, data_folders, dynamic_data_frame):\n",
    "    for folder in DATA_FOLDERS:\n",
    "        for filename in os.listdir(folder):\n",
    "            if not \"stat\" in filename and not \"random\" in filename:\n",
    "                path = os.path.join(folder, filename)\n",
    "                dynamic_data = prepare_data_frame(path, columns_for_training)\n",
    "                dynamic_data_frame = pd.concat([dynamic_data_frame, dynamic_data])\n",
    "            else:\n",
    "                continue\n",
    "                \n",
    "    return dynamic_data_frame   "
   ]
  },
  {
   "cell_type": "code",
   "execution_count": null,
   "id": "incorporate-september",
   "metadata": {},
   "outputs": [],
   "source": [
    "#    #Static data\n",
    "    \n",
    "#    #Creating the pandas DataFrame\n",
    "static_data = pd.DataFrame()\n",
    "#    #Choosing necessary columns of data for learning\n",
    "columns_for_training = [\"data__coordinates__x\", \"data__coordinates__y\",\n",
    "                        \"reference__x\", \"reference__y\"]\n",
    "#    #Merging into one DataFrame all files with static data and with specific columns\n",
    "static_data = prepare_static_data(columns_for_training=columns_for_training,\n",
    "                                    data_folders=DATA_FOLDERS, \n",
    "                                    static_data_frame=static_data)"
   ]
  },
  {
   "cell_type": "code",
   "execution_count": null,
   "id": "settled-glasgow",
   "metadata": {},
   "outputs": [],
   "source": [
    "#    #Preview of data\n",
    "static_data"
   ]
  },
  {
   "cell_type": "code",
   "execution_count": null,
   "id": "unauthorized-cassette",
   "metadata": {},
   "outputs": [],
   "source": [
    "#    #Deleting rows if any value is NaN\n",
    "static_data = static_data.dropna(how='any', axis=\"index\")\n",
    "#    #Splitting static data into two tables\n",
    "coordinates_static_data = static_data[[\"data__coordinates__x\", \"data__coordinates__y\"]].copy()\n",
    "reference_static_data = static_data[[\"reference__x\", \"reference__y\"]].copy()\n",
    "#    #Preview of merged static data\n",
    "static_data"
   ]
  },
  {
   "cell_type": "code",
   "execution_count": null,
   "id": "ahead-origin",
   "metadata": {},
   "outputs": [],
   "source": [
    "#    #Preview of data coordinates\n",
    "coordinates_static_data"
   ]
  },
  {
   "cell_type": "code",
   "execution_count": null,
   "id": "radio-david",
   "metadata": {},
   "outputs": [],
   "source": [
    "#    #Preview of reference\n",
    "reference_static_data"
   ]
  },
  {
   "cell_type": "code",
   "execution_count": null,
   "id": "ea55c433",
   "metadata": {},
   "outputs": [],
   "source": [
    "#    #Saving merged static data into .csv file\n",
    "coordinates_static_data.to_csv(OUT_DATA_PATH + \"coordinates_data_static_merged.csv\", header=True, sep=',', index=False)\n",
    "reference_static_data.to_csv(OUT_DATA_PATH + \"reference_data_static_merged.csv\", header=True, sep=',', index=False)"
   ]
  },
  {
   "cell_type": "code",
   "execution_count": null,
   "id": "b13cb3f4",
   "metadata": {},
   "outputs": [],
   "source": [
    "#    #Dynamic data\n",
    "\n",
    "#    #Creating the pandas DataFrame\n",
    "dynamic_data = pd.DataFrame()\n",
    "#    #Merging into one DataFrame all files with dynamic data and with specific columns\n",
    "dynamic_data = prepare_dynamic_data(columns_for_training=columns_for_training,\n",
    "                                    data_folders=DATA_FOLDERS, \n",
    "                                    dynamic_data_frame=dynamic_data)\n"
   ]
  },
  {
   "cell_type": "code",
   "execution_count": null,
   "id": "dcc29478",
   "metadata": {},
   "outputs": [],
   "source": [
    "#    #Preview of merged dynamic data\n",
    "dynamic_data"
   ]
  },
  {
   "cell_type": "code",
   "execution_count": null,
   "id": "88e6ddb2",
   "metadata": {},
   "outputs": [],
   "source": [
    "#    #Splitting dynamic data into two tables\n",
    "coordinates_dynamic_data = dynamic_data[[\"data__coordinates__x\", \"data__coordinates__y\"]].copy()\n",
    "reference_dynamic_data = dynamic_data[[\"reference__x\", \"reference__y\"]].copy()"
   ]
  },
  {
   "cell_type": "code",
   "execution_count": null,
   "id": "e3594824",
   "metadata": {},
   "outputs": [],
   "source": [
    "#    #Saving merged dynamic data into .csv file\n",
    "coordinates_dynamic_data.to_csv(OUT_DATA_PATH + \"coordinates_data_dynamic_merged.csv\", header=True, sep=',', index=False)\n",
    "reference_dynamic_data.to_csv(OUT_DATA_PATH + \"reference_data_dynamic_merged.csv\", header=True, sep=',', index=False)"
   ]
  }
 ],
 "metadata": {
  "kernelspec": {
   "display_name": "Python 3 (ipykernel)",
   "language": "python",
   "name": "python3"
  },
  "language_info": {
   "codemirror_mode": {
    "name": "ipython",
    "version": 3
   },
   "file_extension": ".py",
   "mimetype": "text/x-python",
   "name": "python",
   "nbconvert_exporter": "python",
   "pygments_lexer": "ipython3",
   "version": "3.7.6"
  }
 },
 "nbformat": 4,
 "nbformat_minor": 5
}
